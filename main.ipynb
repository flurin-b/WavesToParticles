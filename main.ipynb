{
 "cells": [
  {
   "cell_type": "code",
   "execution_count": null,
   "metadata": {},
   "outputs": [],
   "source": [
    "# Imports\n",
    "import main\n",
    "import numpy as np\n",
    "import cv2"
   ]
  },
  {
   "cell_type": "code",
   "execution_count": null,
   "metadata": {},
   "outputs": [],
   "source": [
    "# Create a wave pattern for simulation\n",
    "imgFormat = (1000, 1000)\n",
    "\n",
    "img     = np.zeros((*imgFormat, 3))\n",
    "red     = 2\n",
    "green   = 1\n",
    "blue    = 0\n",
    "\n",
    "# refractive index channel\n",
    "img[:,:,red  ] = np.zeros(imgFormat)\n",
    "\n",
    "# amplitude channel\n",
    "amplitude = 1\n",
    "wavelength = 10 # wavelength in pixels\n",
    "decay   = 0.01\n",
    "img[:,:,green] = np.ones(imgFormat)*0.5\n",
    "for x in range(0, imgFormat[0]):\n",
    "    for y in range(0, imgFormat[1]):\n",
    "        value = 0.5\n",
    "        (x1, y1) = (x-int(imgFormat[0]/2), y-int(imgFormat[1]/2))\n",
    "        if x1!=0 or y1!=0:\n",
    "            value = amplitude*np.sin(np.hypot(x1, y1) * 2*np.pi / wavelength) * np.e**(-decay * np.hypot(x1, y1) * 2*np.pi / wavelength) * 0.5\n",
    "        img[x, y, green] += value\n",
    "        \n",
    "# damping cannel\n",
    "border_width = 10\n",
    "gradientMax = 1.0\n",
    "gradientMin = -(imgFormat[0]/border_width-gradientMax)\n",
    "sideGradient = np.linspace(gradientMax, gradientMin*np.ones(imgFormat[0]), imgFormat[1])\n",
    "sideGradient[sideGradient < 0] = 0\n",
    "cornerGradient = np.linspace(np.linspace(gradientMax,gradientMin, imgFormat[0]), np.linspace(gradientMin,gradientMin-(gradientMax-gradientMin), imgFormat[0]), imgFormat[1])\n",
    "cornerGradient[cornerGradient<0] = 0\n",
    "img[:,:,blue] = sideGradient - cornerGradient\n",
    "\n",
    "img[:,:,blue] += np.rot90(img[:,:,blue],1,(0,1))\n",
    "img[:,:,blue] += np.rot90(img[:,:,blue],2,(0,1))\n",
    "\n",
    "cv2.imwrite('input/selfmade.png', img*255)"
   ]
  },
  {
   "cell_type": "code",
   "execution_count": 5,
   "metadata": {},
   "outputs": [],
   "source": [
    "# Run the simulation\n",
    "\n",
    "simulation_input=\"input/selfmade.png\"\n",
    "\n",
    "main.main(simulation_input, 1000, simulation_steps_per_frame=1, write_videos=True, z_scaling=3)"
   ]
  }
 ],
 "metadata": {
  "kernelspec": {
   "display_name": ".venv",
   "language": "python",
   "name": "python3"
  },
  "language_info": {
   "codemirror_mode": {
    "name": "ipython",
    "version": 3
   },
   "file_extension": ".py",
   "mimetype": "text/x-python",
   "name": "python",
   "nbconvert_exporter": "python",
   "pygments_lexer": "ipython3",
   "version": "3.12.9"
  }
 },
 "nbformat": 4,
 "nbformat_minor": 2
}
